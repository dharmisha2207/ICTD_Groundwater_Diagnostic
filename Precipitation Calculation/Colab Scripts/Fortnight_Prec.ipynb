{
  "nbformat": 4,
  "nbformat_minor": 0,
  "metadata": {
    "colab": {
      "provenance": []
    },
    "kernelspec": {
      "name": "python3",
      "display_name": "Python 3"
    },
    "language_info": {
      "name": "python"
    }
  },
  "cells": [
    {
      "cell_type": "code",
      "execution_count": null,
      "metadata": {
        "id": "xFZIC1tyFXuj"
      },
      "outputs": [],
      "source": [
        "# shape = feature collection of interest\n",
        "shape = ee.FeatureCollection(\" \")\n",
        "\n",
        "\n",
        "size = ee.Number(shape.size())\n",
        "size1 = size.subtract(ee.Number(1))\n",
        "\n",
        "fc = shape.toList(size)\n",
        "\n",
        "#date of interest\n",
        "s = start date\n",
        "e = end date\n",
        "\n",
        "dataset = ee.ImageCollection('JAXA/GPM_L3/GSMaP/v6/operational').filter(ee.Filter.date(s, e))\n",
        "total = dataset.reduce(ee.Reducer.sum())\n",
        "total = total.clip(shape)\n",
        "\n",
        "stats2 = total.reduceRegions(\n",
        "  reducer = ee.Reducer.mean(),\n",
        "  collection = shape,\n",
        "  scale = 11132,\n",
        "  )\n",
        "statsl = ee.List(stats2.toList(size))\n",
        "def res(m):\n",
        "  feat = ee.Feature(statsl.get(m))\n",
        "  id = feat.get('uid')\n",
        "  f = ee.Feature(shape.filter(ee.Filter.eq('uid', id)).first())\n",
        "  val = feat.get('hourlyPrecipRate_sum')\n",
        "  val = ee.Algorithms.If(val, val, 0)\n",
        "  return f.set(s, val)\n",
        "\n",
        "mws = ee.List.sequence(0,size1);\n",
        "l = mws.map(res);\n",
        "shape = ee.FeatureCollection(l);\n",
        "\n",
        "task = ee.batch.Export.table.toAsset(**{\n",
        "  'collection': shape,\n",
        "  'description': 'Prec_data_fortnight',\n",
        "  'assetId': ' '\n",
        "})\n",
        "task.start()"
      ]
    }
  ]
}