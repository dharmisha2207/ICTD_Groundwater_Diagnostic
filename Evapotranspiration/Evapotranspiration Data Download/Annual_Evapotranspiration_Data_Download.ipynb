{
  "nbformat": 4,
  "nbformat_minor": 0,
  "metadata": {
    "colab": {
      "provenance": []
    },
    "kernelspec": {
      "name": "python3",
      "display_name": "Python 3"
    },
    "language_info": {
      "name": "python"
    }
  },
  "cells": [
    {
      "cell_type": "code",
      "source": [
        "import datetime\n",
        "centralDataset=[]\n",
        "# date=datetime.datetime.today()\n",
        "date=datetime.date(2017, 7, 1)\n",
        "sec=\"https://hydro1.gesdisc.eosdis.nasa.gov/daac-bin/OTF/HTTP_services.cgi?FILENAME=%2Fdata%2FFLDAS%2FFLDAS_NOAH001_G_CA_D.001%2F2023%2F01%2FFLDAS_NOAH001_G_CA_D.A20230101.001.nc&SHORTNAME=FLDAS_NOAH001_G_CA_D&VARIABLES=Evap_tavg&SERVICE=L34RS_LDAS&FORMAT=dGlmLw&DATASET_VERSION=001&LABEL=FLDAS_NOAH001_G_CA_D.A20230101.001.nc.SUB.tif&BBOX=24.562%2C86.152%2C25.153%2C86.612&VERSION=1.02%27\"\n",
        "ET = []\n",
        "centralnames=[]\n",
        "for i in range(365):\n",
        "    year=str(date.year)\n",
        "    month=str(date.month).zfill(2)\n",
        "    day=str(date.day).zfill(2)\n",
        "    fullDate = date.strftime('%Y%m%d')\n",
        "    filename = \"https://hydro1.gesdisc.eosdis.nasa.gov/daac-bin/OTF/HTTP_services.cgi?FILENAME=%2Fdata%2FFLDAS%2FFLDAS_NOAH001_G_CA_D.001%2F\"+year+\"%2F\"+month+\"%2FFLDAS_NOAH001_G_CA_D.A\"+fullDate+\".001.nc&SERVICE=L34RS_LDAS&BBOX=21%2C65.566%2C37.932%2C99.844&FORMAT=Y29nLw&VERSION=1.02&SHORTNAME=FLDAS_NOAH001_G_CA_D&LABEL=FLDAS_NOAH001_G_CA_D.A\"+fullDate+\".001.nc.SUB.tif&DATASET_VERSION=001&VARIABLES=Evap_tavg\"\n",
        "    print(filename)\n",
        "    outputName = fullDate+\".tif\"\n",
        "    print(date.strftime('%Y%m%d'), year, month, day, filename)\n",
        "    date += datetime.timedelta(days=1)\n",
        "    centralnames.append(outputName)"
      ],
      "metadata": {
        "id": "BieG_mtPSZFa"
      },
      "execution_count": null,
      "outputs": []
    },
    {
      "cell_type": "code",
      "source": [
        "!pip install rasterio\n",
        "import rasterio as rio\n",
        "import numpy as np\n",
        "from PIL import Image\n",
        "import rasterio\n",
        "import copy"
      ],
      "metadata": {
        "id": "yChkMXNTFmLV"
      },
      "execution_count": null,
      "outputs": []
    },
    {
      "cell_type": "code",
      "source": [
        "len(centralnames)"
      ],
      "metadata": {
        "colab": {
          "base_uri": "https://localhost:8080/"
        },
        "id": "TrPFOpOpSwzk",
        "outputId": "6bdf7354-cbfa-45ec-ecfc-04a2d4704319"
      },
      "execution_count": null,
      "outputs": [
        {
          "output_type": "execute_result",
          "data": {
            "text/plain": [
              "365"
            ]
          },
          "metadata": {},
          "execution_count": 3
        }
      ]
    },
    {
      "cell_type": "code",
      "source": [
        "res=0\n",
        "\n",
        "index=0\n",
        "with rasterio.open('/content/'+centralnames[0]) as src1:\n",
        "  image1 = src1.read()\n",
        "  profile1 = src1.profile\n",
        "\n",
        "for i in range(1, 365):\n",
        "    try:\n",
        "      with rasterio.open('/content/'+centralnames[i]) as src2:\n",
        "        image2 = src2.read()\n",
        "        profile2 = src2.profile\n",
        "    except:\n",
        "      continue\n",
        "    print(centralnames[i])\n",
        "    if image1.shape != image2.shape:\n",
        "      raise ValueError(\"Images must have the same shape\")\n",
        "    # Add the images together\n",
        "    result = image1 + image2\n",
        "    image1 = copy.deepcopy(result)\n",
        "    # Update the profile with the result's shape\n",
        "profile1.update(count=result.shape[0])\n",
        "\n",
        "\n",
        "# Write the resulting image with the preserved CRS\n",
        "with rasterio.open('result_2017_2018_Hydroyear.tif', 'w', **profile1) as dst:\n",
        "    dst.write(result)\n",
        "\n",
        "\n",
        "with rasterio.open('/content/20170701.tif') as src:\n",
        "    with rasterio.open('result_2017_2018_Hydroyear.tif', 'r+', **src.profile) as dst:\n",
        "        dst.write(dst.read())\n",
        "\n"
      ],
      "metadata": {
        "id": "aQiem7muGRbn"
      },
      "execution_count": null,
      "outputs": []
    },
    {
      "cell_type": "code",
      "source": [],
      "metadata": {
        "id": "04S1AO5zS0Uw"
      },
      "execution_count": null,
      "outputs": []
    }
  ]
}