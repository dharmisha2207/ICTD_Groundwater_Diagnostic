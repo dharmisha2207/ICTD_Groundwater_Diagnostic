{
  "cells": [
    {
      "cell_type": "markdown",
      "metadata": {
        "id": "5lznray4ZLCK"
      },
      "source": [
        "# For downloading data"
      ]
    },
    {
      "cell_type": "code",
      "execution_count": null,
      "metadata": {
        "id": "kalLR5PpYUZO"
      },
      "outputs": [],
      "source": [
        "# mws's block lw\n",
        "\n",
        "import datetime\n",
        "centralDataset=[]\n",
        "date=datetime.date(2022, 1, 1)\n",
        "sec=\"https://hydro1.gesdisc.eosdis.nasa.gov/daac-bin/OTF/HTTP_services.cgi?FILENAME=%2Fdata%2FFLDAS%2FFLDAS_NOAH001_G_CA_D.001%2F2023%2F01%2FFLDAS_NOAH001_G_CA_D.A20230101.001.nc&SHORTNAME=FLDAS_NOAH001_G_CA_D&VARIABLES=Evap_tavg&SERVICE=L34RS_LDAS&FORMAT=dGlmLw&DATASET_VERSION=001&LABEL=FLDAS_NOAH001_G_CA_D.A20230101.001.nc.SUB.tif&BBOX=24.562%2C86.152%2C25.153%2C86.612&VERSION=1.02%27\"\n",
        "ET = []\n",
        "centralnames=[]\n",
        "for i in range(365):\n",
        "    year=str(date.year)\n",
        "    month=str(date.month).zfill(2)\n",
        "    day=str(date.day).zfill(2)\n",
        "    fullDate = date.strftime('%Y%m%d')\n",
        "    filename = \"https://hydro1.gesdisc.eosdis.nasa.gov/daac-bin/OTF/HTTP_services.cgi?FILENAME=%2Fdata%2FFLDAS%2FFLDAS_NOAH001_G_CA_D.001%2F\"+year+\"%2F\"+month+\"%2FFLDAS_NOAH001_G_CA_D.A\"+fullDate+\".001.nc&SERVICE=L34RS_LDAS&BBOX=21%2C65.566%2C37.932%2C99.844&FORMAT=Y29nLw&VERSION=1.02&SHORTNAME=FLDAS_NOAH001_G_CA_D&LABEL=FLDAS_NOAH001_G_CA_D.A\"+fullDate+\".001.nc.SUB.tif&DATASET_VERSION=001&VARIABLES=Evap_tavg\"\n",
        "    print(filename)\n",
        "    outputName = fullDate+\".tif\"\n",
        "    print(date.strftime('%Y%m%d'), year, month, day, filename)\n",
        "    # Instead of username_here and password_here write username and password that are used to login to the https://disc.gsfc.nasa.gov/ website\n",
        "    # Make sure the username and password are enclosed in between \"\"\n",
        "    ! wget -O $outputName --user username_here --password password_here \"$filename\"\n",
        "    date += datetime.timedelta(days=1)\n",
        "    centralnames.append(outputName)"
      ]
    },
    {
      "cell_type": "code",
      "execution_count": null,
      "metadata": {
        "id": "lkg0lVuuY0yt"
      },
      "outputs": [],
      "source": []
    },
    {
      "cell_type": "markdown",
      "metadata": {
        "id": "wFKzkQL-ZYpn"
      },
      "source": [
        "# For aggregation"
      ]
    },
    {
      "cell_type": "code",
      "execution_count": null,
      "metadata": {
        "id": "qyXHNlNiY7lw"
      },
      "outputs": [],
      "source": [
        "!pip install rasterio\n",
        "import rasterio as rio\n",
        "import numpy as np\n",
        "from PIL import Image\n",
        "import rasterio\n",
        "import copy"
      ]
    },
    {
      "cell_type": "code",
      "execution_count": null,
      "metadata": {
        "colab": {
          "base_uri": "https://localhost:8080/"
        },
        "id": "PtendS-RZBzV",
        "outputId": "e70e7deb-24af-4c91-f41d-74641d3912f4"
      },
      "outputs": [
        {
          "output_type": "execute_result",
          "data": {
            "text/plain": [
              "365"
            ]
          },
          "metadata": {},
          "execution_count": 3
        }
      ],
      "source": [
        "len(centralnames)"
      ]
    },
    {
      "cell_type": "markdown",
      "source": [
        "# Following is the code for aggregation of 1 fortnight\n"
      ],
      "metadata": {
        "id": "Mz77sRCLwbMB"
      }
    },
    {
      "cell_type": "code",
      "execution_count": null,
      "metadata": {
        "id": "3GAAuzr4ZGIn"
      },
      "outputs": [],
      "source": [
        "res=0\n",
        "\n",
        "index=0\n",
        "# for s in range(0, min(363, len(centralnames)), 14):\n",
        "for i in range(0, 14):\n",
        "  # print(i, end=\"->\")\n",
        "\n",
        "    if(i==0):\n",
        "      with rasterio.open('/content/'+centralnames[i-1]) as src1:\n",
        "        image1 = src1.read()\n",
        "        profile1 = src1.profile\n",
        "\n",
        "    with rasterio.open('/content/'+centralnames[i]) as src2:\n",
        "      image2 = src2.read()\n",
        "      profile2 = src2.profile\n",
        "    print(centralnames[i])\n",
        "    # Add the images together\n",
        "    result = image1 + image2\n",
        "    image1 = copy.deepcopy(result)\n",
        "    # Update the profile with the result's shape\n",
        "profile1.update(count=result.shape[0])\n",
        "\n",
        "# Read the first image\n",
        "\n",
        "\n",
        "# Read the second image\n",
        "\n",
        "# Check if the images have the same shape\n",
        "if image1.shape != image2.shape:\n",
        "    raise ValueError(\"Images must have the same shape\")\n",
        "\n",
        "\n",
        "\n",
        "# Write the resulting image with the preserved CRS\n",
        "with rasterio.open('result_'+str(index)+'.tif', 'w', **profile1) as dst:\n",
        "    dst.write(result)\n",
        "\n",
        "# Copy the CRS value from the source image to the destination image\n",
        "with rasterio.open('/content/'+str(centralnames[-1])) as src:\n",
        "    with rasterio.open('result_'+str(index)+'.tif', 'r+', **src.profile) as dst:\n",
        "        dst.write(dst.read())\n",
        "index+=1\n",
        "\n",
        "print(\"==================================================\")\n",
        "# for i in range(1, len(centralnames)):\n"
      ]
    },
    {
      "cell_type": "markdown",
      "metadata": {
        "id": "gJl6_IjMV-5U"
      },
      "source": [
        "# The following cell contains code for aggregating all the ET files for a year into 26 fortnights"
      ]
    },
    {
      "cell_type": "code",
      "execution_count": null,
      "metadata": {
        "id": "_HGittZJWI-0"
      },
      "outputs": [],
      "source": [
        "# res=0\n",
        "\n",
        "# index=0\n",
        "# for s in range(0, 363, 14):\n",
        "#   for i in range(s+1, s+14):\n",
        "#     # print(i, end=\"->\")\n",
        "#       if(i==s+1):\n",
        "#         try:\n",
        "#           with rasterio.open('/content/'+centralnames[i-1]) as src1:\n",
        "#             image1 = src1.read()\n",
        "#             profile1 = src1.profile\n",
        "#         except:\n",
        "#           # with rasterio.open('/content/'+centralnames[i-1]) as src1:\n",
        "#           #   image1 = src1.read()\n",
        "#           #   profile1 = src1.profile\n",
        "#           # i+=1\n",
        "#           continue\n",
        "#       try:\n",
        "#         with rasterio.open('/content/'+centralnames[i]) as src2:\n",
        "#           image2 = src2.read()\n",
        "#           profile2 = src2.profile\n",
        "#       except:\n",
        "#         # i+=1\n",
        "#         continue\n",
        "#       print(centralnames[i])\n",
        "#       # Add the images together\n",
        "#       result = image1 + image2\n",
        "#       image1 = copy.deepcopy(result)\n",
        "#       # Update the profile with the result's shape\n",
        "#   profile1.update(count=result.shape[0])\n",
        "\n",
        "#   # Read the first image\n",
        "\n",
        "\n",
        "#   # Read the second image\n",
        "\n",
        "#   # Check if the images have the same shape\n",
        "#   if image1.shape != image2.shape:\n",
        "#       raise ValueError(\"Images must have the same shape\")\n",
        "\n",
        "\n",
        "\n",
        "#   # Write the resulting image with the preserved CRS\n",
        "#   with rasterio.open('result_2022_'+str(index)+'.tif', 'w', **profile1) as dst:\n",
        "#       dst.write(result)\n",
        "\n",
        "#   # Copy the CRS value from the source image to the destination image\n",
        "#   with rasterio.open('/content/20220114.tif') as src:\n",
        "#       with rasterio.open('result_2022_'+str(index)+'.tif', 'r+', **src.profile) as dst:\n",
        "#           dst.write(dst.read())\n",
        "#   index+=1\n",
        "\n",
        "#   # print(index+1,\"==================================================\")\n",
        "#   # index+=1\n",
        "# # # for i in range(1, len(centralnames)):\n"
      ]
    },
    {
      "cell_type": "code",
      "source": [],
      "metadata": {
        "id": "m8FBFaT3w1jf"
      },
      "execution_count": null,
      "outputs": []
    },
    {
      "cell_type": "markdown",
      "source": [
        "# The following cells help in downloading the aggregated files on our system."
      ],
      "metadata": {
        "id": "uebRT8Nvw2p4"
      }
    },
    {
      "cell_type": "code",
      "execution_count": null,
      "metadata": {
        "id": "aienIy_-WrRK"
      },
      "outputs": [],
      "source": [
        "xy=[]\n",
        "for i in range(26):\n",
        "  xy.append('result_2022_'+str(i)+'.tif')"
      ]
    },
    {
      "cell_type": "code",
      "execution_count": null,
      "metadata": {
        "id": "WbhN2jHtyVLV"
      },
      "outputs": [],
      "source": [
        "xy"
      ]
    },
    {
      "cell_type": "code",
      "execution_count": null,
      "metadata": {
        "id": "PANMwQVUyV3J"
      },
      "outputs": [],
      "source": [
        "from google.colab import files\n",
        "# for i in xy:\n",
        "files.download(xy[0])\n",
        "files.download(xy[1])\n",
        "files.download(xy[2])\n",
        "files.download(xy[3])\n",
        "files.download(xy[4])\n",
        "files.download(xy[5])\n",
        "files.download(xy[6])\n",
        "files.download(xy[7])\n",
        "files.download(xy[8])\n",
        "files.download(xy[9])\n",
        "files.download(xy[10])\n",
        "files.download(xy[11])\n",
        "files.download(xy[12])\n",
        "files.download(xy[13])\n",
        "files.download(xy[14])\n",
        "files.download(xy[15])\n",
        "files.download(xy[16])\n",
        "files.download(xy[17])\n",
        "files.download(xy[18])\n",
        "files.download(xy[19])\n",
        "files.download(xy[20])\n",
        "files.download(xy[21])\n",
        "files.download(xy[22])\n",
        "files.download(xy[23])\n",
        "files.download(xy[24])\n",
        "files.download(xy[25])"
      ]
    }
  ],
  "metadata": {
    "colab": {
      "provenance": []
    },
    "kernelspec": {
      "display_name": "Python 3",
      "name": "python3"
    },
    "language_info": {
      "name": "python"
    }
  },
  "nbformat": 4,
  "nbformat_minor": 0
}