{
  "nbformat": 4,
  "nbformat_minor": 0,
  "metadata": {
    "colab": {
      "provenance": []
    },
    "kernelspec": {
      "name": "python3",
      "display_name": "Python 3"
    },
    "language_info": {
      "name": "python"
    }
  },
  "cells": [
    {
      "cell_type": "code",
      "source": [
        "import ee\n",
        "shape = ee.FeatureCollection(\" \") #feature collection\n",
        "size = shape.size()\n",
        "size1 = ee.Number(size).subtract(ee.Number(1))\n",
        "\n",
        "total = ee.Image(\" \") #downloaded annual image for ET\n",
        "mws = ee.List.sequence(0,size1);\n",
        "total = total.select('b1');\n",
        "\n",
        "# Total pixels\n",
        "pixelCount = total.reduceRegions(\n",
        "    reducer = ee.Reducer.count(),\n",
        "    collection = shape,\n",
        "    scale = 1113.1949079327357\n",
        ")\n",
        "pixelCount = pixelCount.toList(size)\n",
        "\n",
        "# Total Negative Pixels\n",
        "negativePixels = total.lt(0)\n",
        "\n",
        "negativePixelCount = negativePixels.reduceRegions(\n",
        "    reducer = ee.Reducer.sum(),\n",
        "    collection = shape,\n",
        "    scale = 1113.1949079327357\n",
        ")\n",
        "\n",
        "def ll(k):\n",
        "  pc = ee.Feature(pixelCount.get(k))\n",
        "  id = pc.get('uid')\n",
        "  nc = negativePixelCount.filter(ee.Filter.eq('uid', id)).first()\n",
        "  p = ee.Number(pc.get('count'))\n",
        "  nc = ee.Number(nc.get('sum'))\n",
        "  val = p.subtract(nc)\n",
        "  return pc.set('tot',val)\n",
        "\n",
        "totalpix = ee.FeatureCollection(mws.map(ll))\n",
        "\n",
        "total = total.expression(\n",
        "            'ET>0?86400*ET:0', {\n",
        "              'ET': total.select('b1')\n",
        "        })\n",
        "\n",
        "stats2 = total.reduceRegions(\n",
        "    reducer = ee.Reducer.sum(),\n",
        "    collection = shape,\n",
        "    scale = 1113.1949079327357,\n",
        ")\n",
        "\n",
        "statsl = stats2.toList(size)\n",
        "\n",
        "#year of interest\n",
        "sd = start date\n",
        "\n",
        "def res(m):\n",
        "  f = ee.Feature(statsl.get(m))\n",
        "  s = ee.Number(f.get('sum'))\n",
        "  id = f.get('uid')\n",
        "  feat = shape.filter(ee.Filter.eq('uid', id)).first()\n",
        "  pix = totalpix.filter(ee.Filter.eq('uid', id)).first()\n",
        "  pix = ee.Number(pix.get('tot'))\n",
        "  val = s.divide(pix)\n",
        "  return feat.set(sd, val)\n",
        "\n",
        "shape = ee.FeatureCollection(mws.map(res));\n",
        "\n",
        "task = ee.batch.Export.table.toAsset(**{\n",
        "  'collection': shape,\n",
        "  'description': 'ET_Annual',\n",
        "  'assetId': ' ' #assetID\n",
        "})\n",
        "task.start()\n"
      ],
      "metadata": {
        "id": "Q7J9rUOIxe8c"
      },
      "execution_count": null,
      "outputs": []
    }
  ]
}